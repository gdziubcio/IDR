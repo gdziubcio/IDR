{
 "cells": [
  {
   "cell_type": "code",
   "execution_count": 50,
   "metadata": {},
   "outputs": [],
   "source": [
    "# import packages for data manipulation\n",
    "import pandas as pd\n",
    "import numpy as np\n",
    "import matplotlib.pyplot as plt\n",
    "# import seaborn as sns\n",
    "import os"
   ]
  },
  {
   "cell_type": "code",
   "execution_count": 51,
   "metadata": {},
   "outputs": [],
   "source": [
    "from src.fasta_utilities import get_TF_fasta\n",
    "\n",
    "get_TF_fasta() # obtain the TF fasta file"
   ]
  },
  {
   "cell_type": "code",
   "execution_count": 52,
   "metadata": {},
   "outputs": [
    {
     "data": {
      "text/html": [
       "<div>\n",
       "<style scoped>\n",
       "    .dataframe tbody tr th:only-of-type {\n",
       "        vertical-align: middle;\n",
       "    }\n",
       "\n",
       "    .dataframe tbody tr th {\n",
       "        vertical-align: top;\n",
       "    }\n",
       "\n",
       "    .dataframe thead th {\n",
       "        text-align: right;\n",
       "    }\n",
       "</style>\n",
       "<table border=\"1\" class=\"dataframe\">\n",
       "  <thead>\n",
       "    <tr style=\"text-align: right;\">\n",
       "      <th></th>\n",
       "      <th>ID</th>\n",
       "      <th>fldpnn2_score</th>\n",
       "    </tr>\n",
       "  </thead>\n",
       "  <tbody>\n",
       "    <tr>\n",
       "      <th>0</th>\n",
       "      <td>A0A0K3AR10</td>\n",
       "      <td>0.316,0.332,0.322,0.339,0.328,0.31,0.299,0.331...</td>\n",
       "    </tr>\n",
       "    <tr>\n",
       "      <th>1</th>\n",
       "      <td>A0A0K3ARK1</td>\n",
       "      <td>0.392,0.414,0.472,0.471,0.485,0.452,0.465,0.47...</td>\n",
       "    </tr>\n",
       "    <tr>\n",
       "      <th>2</th>\n",
       "      <td>A0A0K3ATY3</td>\n",
       "      <td>0.392,0.42,0.467,0.464,0.478,0.458,0.458,0.447...</td>\n",
       "    </tr>\n",
       "    <tr>\n",
       "      <th>3</th>\n",
       "      <td>A0A0K3AUK7</td>\n",
       "      <td>0.262,0.261,0.281,0.393,0.437,0.395,0.344,0.30...</td>\n",
       "    </tr>\n",
       "    <tr>\n",
       "      <th>4</th>\n",
       "      <td>A0A0K3AWW5</td>\n",
       "      <td>0.193,0.173,0.184,0.171,0.183,0.195,0.206,0.20...</td>\n",
       "    </tr>\n",
       "    <tr>\n",
       "      <th>5</th>\n",
       "      <td>A0A486WW91</td>\n",
       "      <td>0.401,0.525,0.561,0.637,0.42,0.362,0.362,0.362...</td>\n",
       "    </tr>\n",
       "    <tr>\n",
       "      <th>6</th>\n",
       "      <td>A0A486WWS1</td>\n",
       "      <td>0.383,0.509,0.598,0.734,0.598,0.464,0.379,0.51...</td>\n",
       "    </tr>\n",
       "    <tr>\n",
       "      <th>7</th>\n",
       "      <td>A0A5S9MQ08</td>\n",
       "      <td>0.316,0.332,0.322,0.339,0.327,0.31,0.299,0.331...</td>\n",
       "    </tr>\n",
       "    <tr>\n",
       "      <th>8</th>\n",
       "      <td>B6VQ92</td>\n",
       "      <td>0.42,0.392,0.347,0.37,0.349,0.335,0.323,0.357,...</td>\n",
       "    </tr>\n",
       "  </tbody>\n",
       "</table>\n",
       "</div>"
      ],
      "text/plain": [
       "           ID                                      fldpnn2_score\n",
       "0  A0A0K3AR10  0.316,0.332,0.322,0.339,0.328,0.31,0.299,0.331...\n",
       "1  A0A0K3ARK1  0.392,0.414,0.472,0.471,0.485,0.452,0.465,0.47...\n",
       "2  A0A0K3ATY3  0.392,0.42,0.467,0.464,0.478,0.458,0.458,0.447...\n",
       "3  A0A0K3AUK7  0.262,0.261,0.281,0.393,0.437,0.395,0.344,0.30...\n",
       "4  A0A0K3AWW5  0.193,0.173,0.184,0.171,0.183,0.195,0.206,0.20...\n",
       "5  A0A486WW91  0.401,0.525,0.561,0.637,0.42,0.362,0.362,0.362...\n",
       "6  A0A486WWS1  0.383,0.509,0.598,0.734,0.598,0.464,0.379,0.51...\n",
       "7  A0A5S9MQ08  0.316,0.332,0.322,0.339,0.327,0.31,0.299,0.331...\n",
       "8      B6VQ92  0.42,0.392,0.347,0.37,0.349,0.335,0.323,0.357,..."
      ]
     },
     "execution_count": 52,
     "metadata": {},
     "output_type": "execute_result"
    }
   ],
   "source": [
    "from src import fldpnn2_scores\n",
    "fldpnn2_scores.get_scores()"
   ]
  }
 ],
 "metadata": {
  "kernelspec": {
   "display_name": "myenv",
   "language": "python",
   "name": "python3"
  },
  "language_info": {
   "codemirror_mode": {
    "name": "ipython",
    "version": 3
   },
   "file_extension": ".py",
   "mimetype": "text/x-python",
   "name": "python",
   "nbconvert_exporter": "python",
   "pygments_lexer": "ipython3",
   "version": "3.12.7"
  }
 },
 "nbformat": 4,
 "nbformat_minor": 2
}
